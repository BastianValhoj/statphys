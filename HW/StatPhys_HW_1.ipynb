{
 "cells": [
  {
   "cell_type": "code",
   "execution_count": 1,
   "metadata": {},
   "outputs": [],
   "source": [
    "import numpy as np"
   ]
  },
  {
   "cell_type": "markdown",
   "metadata": {},
   "source": [
    "# Microcanonical and Grand Canonical ensembles"
   ]
  },
  {
   "cell_type": "markdown",
   "metadata": {},
   "source": [
    "### a) Describe the ground state of the lattice and calculate its energy and entropy"
   ]
  },
  {
   "cell_type": "markdown",
   "metadata": {},
   "source": [
    "The ground state is the state for which the energy is minimal. Given the information of having a total of $N$ particles among $N$ lattice sites, and that the energy at a site is zero if there are at most one particle on site, we can conclude that the ground state has one particle for each of the sites, for a total energy of: \n",
    "$$\n",
    "    E_{tot} = \\sum_{i=1}^NE_i = 0,\\quad E_i = E(n_i) = \\begin{cases} U, & n_i = 2 \\\\ 0, & n_i < 2 \\end{cases},\n",
    "$$\n",
    "\n",
    "with $n_i$ being the total amount of particles at lattice site $i$.\n",
    "\n",
    "This results in exactly one state for which the entropy is $S = k\\ln{\\Omega} = 0$."
   ]
  },
  {
   "cell_type": "markdown",
   "metadata": {},
   "source": [
    "### b) Calculate the number of states with energy $E=U$  and the number of states with energy $E=2U$"
   ]
  },
  {
   "cell_type": "markdown",
   "metadata": {},
   "source": [
    "This time we start with the ground state, but make $n$ sites have no particles redistributing $n$ particles removed are distributed among the remaining $N-n$ sites.\n",
    "As the sites in the ground state each has $n_i=1$ particles, and since there can be at most $n_i=2$ particles at a site, therefore we can at most remove particles from $\\lfloor N/2\\rfloor$ sites and the recipients therefore can have at most 1 particle each."
   ]
  },
  {
   "cell_type": "markdown",
   "metadata": {},
   "source": [
    "The amount of sites recieving additional particles is $N-n$ each with the energy $E(2) = 2U$. The number of sites having a single particle is $N-2n$ (the total minus the amount having no particles and the amount having 2 particles), and each with the energy $E(1) = U$.\n",
    "\n",
    "\n",
    "\n",
    "**Calculate the number of combinations for these energies**"
   ]
  },
  {
   "cell_type": "markdown",
   "metadata": {},
   "source": [
    "### c) Show that the number of states with energy $E=nU$ is given by \n",
    "$$\n",
    "    \\Omega_N(n) = \\frac{N!}{(N-2n)!(n!)^2}.\n",
    "$$\n"
   ]
  },
  {
   "cell_type": "markdown",
   "metadata": {},
   "source": [
    "This process is the computation of the multinomial coefficient with two (2) iterations of *\"r choose k\"* as follows:\n",
    "\n",
    "First we have a total of $N$ particles and we choose $n$ having no particles, ${N\\choose n}$. Then we choose $n$ from the remaining $N-n$ sites as recipients for said particles, ${N-n\\choose n}$.\n",
    "\n",
    "$$\n",
    "    \\Omega_N(n) = {N \\choose n}{N-n\\choose n} = \\frac{N!}{\\cancel{(N-n)}!n!}\\cdot \\frac{\\cancel{(N-n)}!}{(N-2n)!n!} = \\frac{N!}{(N-2n)!(n!)^2}.\n",
    "$$\n",
    "\n",
    "The highest possible energy is then $E(N)=NU$ and there is only $\\Omega_N(N) = 1$ state for which this is possible (assuming constraints on amount of particles in a single site is lifted)."
   ]
  },
  {
   "cell_type": "markdown",
   "metadata": {},
   "source": [
    "### d) Use Stirlings approximation to calculate the entropy as a function of the $E$, and $N$. Is the expression valid in the limit of $E\\rightarrow 0$?\n",
    "\n",
    "The entropy is related to number of states as\n",
    "\n",
    "$$\n",
    " S = k_B \\ln{\\Omega}.\n",
    "$$\n",
    "Recalling Stirlings approximation:\n",
    "$$\n",
    "    \\ln{N!} \\approx N\\ln{N} - N + \\mathcal{O}(\\ln{N})\n",
    "$$\n",
    "\n",
    "\n",
    "We can then approximate the entropy as follows:\n",
    "\n",
    "\n",
    "$$\\begin{align*}\n",
    "    S &= k_B\\ln{\\frac{N!}{(N-2n)!(n!)^2}}\n",
    "    \\\\\n",
    "    &\\approx k_B\\Big[ N\\ln{N} - {N} \n",
    "        - \\left[(N-2n)\\ln{(N-2n)} - (N - 2n) \\right] \n",
    "        - 2\\left(n\\ln{n} - n \\right)\n",
    "        \\Big] \n",
    "        \\\\\n",
    "        &= k_B\\Big[ N\\ln{N} - (N-2n)\\ln{(N-2n)}  - 2n\\ln{n} \\Big]\n",
    "\\end{align*}$$"
   ]
  },
  {
   "cell_type": "markdown",
   "metadata": {},
   "source": [
    "Now using the relationship between number of moved particles and the energy as $E = nU$\n",
    "$$\\begin{align}\n",
    "    S/k_B \\approx N\\ln{N} - \\left(N - 2\\frac EU\\right)\\ln{\\left(N-2\\frac EU\\right)} - 2\\frac EU\\ln{\\frac EU}\n",
    "\\end{align}$$"
   ]
  },
  {
   "cell_type": "markdown",
   "metadata": {},
   "source": [
    "As the energy depends on the number of moved particles, $n$, then as the energy goes to zero, so does $n$ and Stirling's approximaiton used on $n$ ($\\ln{n!} \\approx n\\ln{n} - n$) no longer holds."
   ]
  },
  {
   "cell_type": "markdown",
   "metadata": {},
   "source": [
    "### e) Calculate the temperature $T$ as a function of $N,U,$ and $E$ and invert the expression to obtain $E$ as a function of $T,U,$ and $N$"
   ]
  },
  {
   "cell_type": "markdown",
   "metadata": {},
   "source": [
    "Recalling that the thermodynamic temperature is defined as\n",
    "$$\n",
    "    \\frac{1}{T} = \\left(\\frac{\\partial S}{\\partial E}\\right)_{V,N},\n",
    "$$\n",
    "resulting in\n",
    "\n",
    "$$\\begin{align*}\n",
    "    \\frac{1}{T} &= k_B\\frac{\\partial}{\\partial E} \\left(N\\ln{N} - \\left(N - 2\\frac{E}{U}\\right)\\ln{\\left(N-2\\frac EU\\right)} - 2\\frac EU\\ln{\\frac EU}\n",
    "        \\right)_{V,N}\n",
    "        \\\\\n",
    "        &= k_B\\left(\n",
    "            \\frac 2U \\frac{N-2\\frac EU}{N-2\\frac EU} \n",
    "            + \\frac 2U \\ln{\\left(N-2\\frac EU\\right) \n",
    "            - \\frac{2E/U}{E/U}\\frac{1}{U}}\n",
    "            - \\frac 2U\\ln{E/U}\n",
    "            % N \\frac{-\\frac{2}{U}}{N-\\frac{2E}{U}} \n",
    "            % + \\frac{2}{U}\\ln{\\left(N-2\\frac{E}{U}\\right)} \n",
    "            % - 2\\frac{E}{U}\\frac{\\frac{2}{U}}{N-2\\frac{E}{U}} \n",
    "            % - \\frac{2}{U}\\ln{\\frac{E}{U}} - \\frac{2E}{U}\\frac{1/U}{E/U}\n",
    "        \\right)\n",
    "        \\\\\n",
    "        &= k_B \\ln{\\left(\\frac{N-2E/U}{E/U}\\right)} 2/U\n",
    "\\end{align*}$$"
   ]
  },
  {
   "cell_type": "markdown",
   "metadata": {},
   "source": [
    "Now we find $E(T,V,N)$ from the previous result\n",
    "$$\\begin{align*}\n",
    "    \\frac{N-2E/U}{E/U} &= e^{\\beta U /2}\n",
    "    \\\\\n",
    "    E &= \\frac{NU}{2 + e^{\\beta U /2}}, \\quad \\beta = \\frac{1}{k_BT} = \\frac{1}{k_B}\\left(\\frac{\\partial S}{\\partial E}\\right)_{V,N}\n",
    "\\end{align*}$$"
   ]
  },
  {
   "cell_type": "markdown",
   "metadata": {},
   "source": [
    "### f) Show that the chemical potential of the isolated system is independent of energy and given by $\\mu=U/2$"
   ]
  },
  {
   "cell_type": "markdown",
   "metadata": {},
   "source": [
    "The chemical potential is calculated as\n",
    "$$\n",
    "    \\mu = -T\\Delta S,\\quad \\Delta S = S_{N+1}(n) - S_{N}(n)\n",
    "$$\n",
    "\n",
    "We already determined $S_N = k_B\\ln{\\Omega_N}$ from *c)*, and using $\\Omega_{N+1}$ from the handout we compute\n",
    "\n",
    "$$\\begin{align*}\n",
    "    S_{N+1} &= k_B\\bigg[\\ln{N!} - \\ln{(N-2n+1)!} - \\ln{n!} - \\ln{(n-1)!}\\bigg]\n",
    "    \\\\\n",
    "        &\\approx k_B\\bigg[\n",
    "            N\\ln{N} - N \n",
    "            - (N-2n+1)\\ln{(N-2n+1)} + (N-2n + 1)\n",
    "            - n\\ln{n} + n\n",
    "            - (n-1)\\ln{(n-1)} + (n-1)\n",
    "        \\bigg]\n",
    "    \\\\\n",
    "        &= k_B\\bigg[ N\\ln{N} - (N-2n+1)\\ln{(N-2n+1)} - n\\ln{n} - (n-1)\\ln{(n-1)} \\bigg] \n",
    "\\end{align*}$$\n",
    "\n"
   ]
  },
  {
   "cell_type": "markdown",
   "metadata": {},
   "source": [
    "Subtracting $S_1$ we get\n",
    "$$\\begin{align*}\n",
    "    \\Delta S &= S_{N+1} - S_N\n",
    "    \\\\\n",
    "        &= k_B\\bigg[ N\\ln{N} - (N-2n+1)\\ln{(N-2n+1)} - n\\ln{n} - (n-1)\\ln{(n-1)} \\bigg] \n",
    "        - k_B\\Big[ N\\ln{N} - (N-2n)\\ln{(N-2n)}  - 2n\\ln{n} \\Big]\n",
    "    \\\\\n",
    "        &= -k_B\\bigg[(N-2n+1)\\ln{(N-2n+1)} -  n\\ln{n} + (n-1)\\ln{(n-1)} - (N-2n)\\ln{(N-2n)} \\bigg]\n",
    "      \n",
    "\\end{align*}$$"
   ]
  },
  {
   "cell_type": "markdown",
   "metadata": {},
   "source": [
    "Rewriting the expression above we get\n",
    "$$\\begin{align*}\n",
    "    \\Delta S &= -k_B \\left[\n",
    "        (N-2n)\\ln{\\left(\\frac{N-2n+1}{N-2n}\\right)} + n\\ln{\\left(\\frac{n-1}{n}\\right)} + \\ln{\\left(\\frac{N-2n+1}{n-1}\\right)}\n",
    "    \\right]\n",
    "    \\\\\n",
    "        &= - k_B \\left[\n",
    "            (N-2n)\\ln{\\left(1+\\frac{1}{N-2n}\\right)} + n\\ln{\\left(1-\\frac{1}{n}\\right)} + \\ln{\\left(\\frac{N-2n+1}{n-1}\\right)}\n",
    "        \\right]\n",
    "\\end{align*}$$"
   ]
  },
  {
   "cell_type": "markdown",
   "metadata": {},
   "source": [
    "Now we compute the chemical potential using the reltaion $\\beta =  \\ln{\\left(\\frac{N-2n}{n}\\right)} 2/U$ from erxercise *d)*\n",
    "\n",
    "$$\\begin{align*}\n",
    "    \\mu = -T\\Delta{S} &= \\beta^{-1}\\left[\n",
    "            (N-2n)\\ln{\\left(1+\\frac{1}{N-2n}\\right)} + n\\ln{\\left(1-\\frac{1}{n}\\right)} + \\ln{\\left(\\frac{N-2n+1}{n-1}\\right)}\n",
    "        \\right]\n",
    "        \\\\\n",
    "        &=\\frac U2 \\frac{(N-2n)\\ln{\\left(1+\\frac{1}{N-2n}\\right)} + n\\ln{\\left(1-\\frac{1}{n}\\right)} + \\ln{\\left(\\frac{N-2n+1}{n-1}\\right)}} {\\ln{\\left(\\frac{N-2n}{n}\\right)}}\n",
    "\\end{align*}$$"
   ]
  },
  {
   "cell_type": "markdown",
   "metadata": {},
   "source": [
    "Using the relation that for small $x$, then $\\ln{1+x} \\approx x$\n",
    "$$\\begin{align*}\n",
    "    \\mu = \\frac{U}{2} \\frac{1 - 1 + \\ln{\\frac{N}{n}}}{\\ln{N/n}} = \\frac U2\n",
    "\\end{align*}$$\n"
   ]
  },
  {
   "cell_type": "markdown",
   "metadata": {},
   "source": [
    "Where we have used the limits \n",
    "\n",
    "$$\n",
    "    \\lim_{N\\to\\infty}{\\ln{\\left(1 + \\frac{1}{N-2n}\\right)}} = \\frac{1}{N-2n}, \\qquad  \\lim_{n\\to\\infty}{\\ln{\\left(1 - \\frac{1}{n}\\right)}} = -\\frac1n, \\qquad\n",
    "    \\lim_{N\\to\\infty}{\\ln{\\left(\\frac{N - 2n + 1}{n-1}\\right)}} = \\lim_{N\\to\\infty}{\\ln{\\left(\\frac{N-2n}{n}\\right)}} = \\ln{N/n}\n",
    "    \n",
    "$$"
   ]
  },
  {
   "cell_type": "markdown",
   "metadata": {},
   "source": [
    "<!-- \n",
    "So inserting the entropy we get\n",
    "$$\\begin{align*}\n",
    "    \\mu &= -\\beta^{-1}\\frac{\\partial}{\\partial N} \\left(N\\ln{N} - \\left(N - 2\\frac{E}{U}\\right)\\ln{\\left(N-2\\frac EU\\right)} - 2\\frac EU\\ln{\\frac EU} \\right)_{E,V}\n",
    "        \\\\\n",
    "        &= -\\beta^{-1}\\left(\n",
    "            \\frac NN + \\ln{N} - \\frac{N- 2E/U}{N- 2E/U} - \\ln{\\left(N-2\\frac EU\\right)}\n",
    "        \\right)\n",
    "        \\\\\n",
    "        &= \\beta^{-1}\\ln{\\left(1-\\frac{2E}{NU}\\right)}\n",
    "\\end{align*}$$\n",
    "\n",
    "\n",
    "Inserting $\\beta$ from the previous exercise we get\n",
    "\n",
    "$$\n",
    "   \\mu = \\frac U2\\frac{\\ln{\\left(1-\\frac{2E}{NU}\\right)}}{\\ln{\\left(\\frac{N-2E/U}{E/U}\\right)}}\n",
    "$$\n",
    "Now, we know that the energy at a site can at most be $E=2U$ according to *b)* and so we can assume that $1 \\gg 2E/(NU) \\geq 0$ since $\\gg1$. Utilising the approximation that for small $x$ the logarithm is $\\ln{(1 + x)}\\approx x$ and so we get the chemical potential\n",
    "\n",
    "$$\\begin{align}\n",
    "   \\mu &\\approx -\\beta^{-1}\\frac{2E}{NU}\n",
    "   \\\\\n",
    "      &=\n",
    "\\end{align} -->"
   ]
  },
  {
   "cell_type": "markdown",
   "metadata": {},
   "source": [
    "### g) Write down the partition function of the full lattice in the grand canonical ensemble. What can you say about the chemical potential if we require an average of one particle per site? how does it compare with the result of f)?"
   ]
  },
  {
   "cell_type": "markdown",
   "metadata": {},
   "source": [
    "The grand partition function for energies $E_s = \\set{0, U, 2U}$ and and $N_s = \\set{n, N-n, N-2n}$\n",
    "$$\n",
    "    Z_G = \\sum_s e^{-\\beta(E_s - \\mu N_s)}\n",
    "$$"
   ]
  },
  {
   "cell_type": "code",
   "execution_count": null,
   "metadata": {},
   "outputs": [],
   "source": []
  },
  {
   "cell_type": "code",
   "execution_count": null,
   "metadata": {},
   "outputs": [],
   "source": []
  }
 ],
 "metadata": {
  "kernelspec": {
   "display_name": "02477",
   "language": "python",
   "name": "python3"
  },
  "language_info": {
   "codemirror_mode": {
    "name": "ipython",
    "version": 3
   },
   "file_extension": ".py",
   "mimetype": "text/x-python",
   "name": "python",
   "nbconvert_exporter": "python",
   "pygments_lexer": "ipython3",
   "version": "3.12.1"
  }
 },
 "nbformat": 4,
 "nbformat_minor": 2
}
