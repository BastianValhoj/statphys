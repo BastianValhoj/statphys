{
 "cells": [
  {
   "cell_type": "code",
   "execution_count": 38,
   "metadata": {},
   "outputs": [],
   "source": [
    "import numpy as np\n",
    "from scipy.special import comb\n",
    "from scipy.stats import binom"
   ]
  },
  {
   "cell_type": "code",
   "execution_count": null,
   "metadata": {},
   "outputs": [],
   "source": []
  },
  {
   "cell_type": "markdown",
   "metadata": {},
   "source": [
    "### 1.3 A)\n",
    "\n",
    "For a Box with two halves containing 8 particles in total, find the number of possible microstates for each macrostate with $N=8$ particles in total\n",
    "\n",
    "$$\\begin{align}\n",
    "    W(n) &= {N \\choose n}\n",
    "    \\\\\n",
    "    W(0) = W(8) &= \\frac{8!}{0!8!} &&= 1\n",
    "    \\\\\n",
    "    W(1) = W(7) &= \\frac{8!}{7!} &&= 8\n",
    "    \\\\\n",
    "    W(2) = W(6) &= \\frac{8!}{2!6!} &&= 28\n",
    "    \\\\\n",
    "    W(3) = W(5) &= \\frac{8!}{3!5!} &&= 56\n",
    "    \\\\\n",
    "    W(4) &= \\frac{8!}{4!4!} &&= 70\n",
    "    \\\\\n",
    "\n",
    "\\end{align}$$"
   ]
  },
  {
   "cell_type": "code",
   "execution_count": 37,
   "metadata": {},
   "outputs": [
    {
     "name": "stdout",
     "output_type": "stream",
     "text": [
      "W(0) = 1.0\n",
      "P(0) = 0.004\n",
      "\n",
      "W(1) = 8.0\n",
      "P(1) = 0.031\n",
      "\n",
      "W(2) = 28.0\n",
      "P(2) = 0.109\n",
      "\n",
      "W(3) = 56.0\n",
      "P(3) = 0.219\n",
      "\n",
      "W(4) = 70.0\n",
      "P(4) = 0.273\n",
      "\n",
      "W(5) = 56.0\n",
      "P(5) = 0.219\n",
      "\n",
      "W(6) = 28.0\n",
      "P(6) = 0.109\n",
      "\n",
      "W(7) = 8.0\n",
      "P(7) = 0.031\n",
      "\n",
      "W(8) = 1.0\n",
      "P(8) = 0.004\n",
      "\n"
     ]
    }
   ],
   "source": [
    "N = 8\n",
    "\n",
    "with np.printoptions(precision=0, suppress=True):\n",
    "    for n in range(N+1):\n",
    "        print(f\"W({n}) = {(comb(N, n)):>2}\")\n",
    "        print(f\"P({n}) = {binom.pmf(n,N,1/2):>5.3f}\\n\")\n",
    "        "
   ]
  },
  {
   "cell_type": "markdown",
   "metadata": {},
   "source": [
    "### 1.3 B) Why are $n=N/2$ more likely than $n=N$?\n",
    "Because the probability of succesive identical results are less likely for a fair binomial probability distribution. The MLE of the binomial probability distribution is equal to the probability times the number of trials $MLE = Np = {N \\over 2}$"
   ]
  },
  {
   "cell_type": "markdown",
   "metadata": {},
   "source": []
  }
 ],
 "metadata": {
  "kernelspec": {
   "display_name": "02477",
   "language": "python",
   "name": "python3"
  },
  "language_info": {
   "codemirror_mode": {
    "name": "ipython",
    "version": 3
   },
   "file_extension": ".py",
   "mimetype": "text/x-python",
   "name": "python",
   "nbconvert_exporter": "python",
   "pygments_lexer": "ipython3",
   "version": "3.12.1"
  }
 },
 "nbformat": 4,
 "nbformat_minor": 2
}
